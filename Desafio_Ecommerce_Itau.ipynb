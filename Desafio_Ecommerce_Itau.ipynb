{
  "nbformat": 4,
  "nbformat_minor": 0,
  "metadata": {
    "colab": {
      "provenance": []
    },
    "kernelspec": {
      "name": "python3",
      "display_name": "Python 3"
    },
    "language_info": {
      "name": "python"
    }
  },
  "cells": [
    {
      "cell_type": "code",
      "source": [
        "\n",
        "from google.colab import files\n",
        "uploaded = files.upload()\n",
        "\n",
        "import pandas as pd\n",
        "tabela = pd.read_csv('/content/Ecommerce_DBS.csv')\n",
        "print(tabela.head())"
      ],
      "metadata": {
        "colab": {
          "base_uri": "https://localhost:8080/",
          "height": 420
        },
        "id": "_51ygqTRtCp6",
        "outputId": "793ae139-a81e-4e00-ea15-1b0b0df679b9"
      },
      "execution_count": 2,
      "outputs": [
        {
          "output_type": "display_data",
          "data": {
            "text/plain": [
              "<IPython.core.display.HTML object>"
            ],
            "text/html": [
              "\n",
              "     <input type=\"file\" id=\"files-9d7e0019-1277-4df4-9871-f7e93d4914db\" name=\"files[]\" multiple disabled\n",
              "        style=\"border:none\" />\n",
              "     <output id=\"result-9d7e0019-1277-4df4-9871-f7e93d4914db\">\n",
              "      Upload widget is only available when the cell has been executed in the\n",
              "      current browser session. Please rerun this cell to enable.\n",
              "      </output>\n",
              "      <script>// Copyright 2017 Google LLC\n",
              "//\n",
              "// Licensed under the Apache License, Version 2.0 (the \"License\");\n",
              "// you may not use this file except in compliance with the License.\n",
              "// You may obtain a copy of the License at\n",
              "//\n",
              "//      http://www.apache.org/licenses/LICENSE-2.0\n",
              "//\n",
              "// Unless required by applicable law or agreed to in writing, software\n",
              "// distributed under the License is distributed on an \"AS IS\" BASIS,\n",
              "// WITHOUT WARRANTIES OR CONDITIONS OF ANY KIND, either express or implied.\n",
              "// See the License for the specific language governing permissions and\n",
              "// limitations under the License.\n",
              "\n",
              "/**\n",
              " * @fileoverview Helpers for google.colab Python module.\n",
              " */\n",
              "(function(scope) {\n",
              "function span(text, styleAttributes = {}) {\n",
              "  const element = document.createElement('span');\n",
              "  element.textContent = text;\n",
              "  for (const key of Object.keys(styleAttributes)) {\n",
              "    element.style[key] = styleAttributes[key];\n",
              "  }\n",
              "  return element;\n",
              "}\n",
              "\n",
              "// Max number of bytes which will be uploaded at a time.\n",
              "const MAX_PAYLOAD_SIZE = 100 * 1024;\n",
              "\n",
              "function _uploadFiles(inputId, outputId) {\n",
              "  const steps = uploadFilesStep(inputId, outputId);\n",
              "  const outputElement = document.getElementById(outputId);\n",
              "  // Cache steps on the outputElement to make it available for the next call\n",
              "  // to uploadFilesContinue from Python.\n",
              "  outputElement.steps = steps;\n",
              "\n",
              "  return _uploadFilesContinue(outputId);\n",
              "}\n",
              "\n",
              "// This is roughly an async generator (not supported in the browser yet),\n",
              "// where there are multiple asynchronous steps and the Python side is going\n",
              "// to poll for completion of each step.\n",
              "// This uses a Promise to block the python side on completion of each step,\n",
              "// then passes the result of the previous step as the input to the next step.\n",
              "function _uploadFilesContinue(outputId) {\n",
              "  const outputElement = document.getElementById(outputId);\n",
              "  const steps = outputElement.steps;\n",
              "\n",
              "  const next = steps.next(outputElement.lastPromiseValue);\n",
              "  return Promise.resolve(next.value.promise).then((value) => {\n",
              "    // Cache the last promise value to make it available to the next\n",
              "    // step of the generator.\n",
              "    outputElement.lastPromiseValue = value;\n",
              "    return next.value.response;\n",
              "  });\n",
              "}\n",
              "\n",
              "/**\n",
              " * Generator function which is called between each async step of the upload\n",
              " * process.\n",
              " * @param {string} inputId Element ID of the input file picker element.\n",
              " * @param {string} outputId Element ID of the output display.\n",
              " * @return {!Iterable<!Object>} Iterable of next steps.\n",
              " */\n",
              "function* uploadFilesStep(inputId, outputId) {\n",
              "  const inputElement = document.getElementById(inputId);\n",
              "  inputElement.disabled = false;\n",
              "\n",
              "  const outputElement = document.getElementById(outputId);\n",
              "  outputElement.innerHTML = '';\n",
              "\n",
              "  const pickedPromise = new Promise((resolve) => {\n",
              "    inputElement.addEventListener('change', (e) => {\n",
              "      resolve(e.target.files);\n",
              "    });\n",
              "  });\n",
              "\n",
              "  const cancel = document.createElement('button');\n",
              "  inputElement.parentElement.appendChild(cancel);\n",
              "  cancel.textContent = 'Cancel upload';\n",
              "  const cancelPromise = new Promise((resolve) => {\n",
              "    cancel.onclick = () => {\n",
              "      resolve(null);\n",
              "    };\n",
              "  });\n",
              "\n",
              "  // Wait for the user to pick the files.\n",
              "  const files = yield {\n",
              "    promise: Promise.race([pickedPromise, cancelPromise]),\n",
              "    response: {\n",
              "      action: 'starting',\n",
              "    }\n",
              "  };\n",
              "\n",
              "  cancel.remove();\n",
              "\n",
              "  // Disable the input element since further picks are not allowed.\n",
              "  inputElement.disabled = true;\n",
              "\n",
              "  if (!files) {\n",
              "    return {\n",
              "      response: {\n",
              "        action: 'complete',\n",
              "      }\n",
              "    };\n",
              "  }\n",
              "\n",
              "  for (const file of files) {\n",
              "    const li = document.createElement('li');\n",
              "    li.append(span(file.name, {fontWeight: 'bold'}));\n",
              "    li.append(span(\n",
              "        `(${file.type || 'n/a'}) - ${file.size} bytes, ` +\n",
              "        `last modified: ${\n",
              "            file.lastModifiedDate ? file.lastModifiedDate.toLocaleDateString() :\n",
              "                                    'n/a'} - `));\n",
              "    const percent = span('0% done');\n",
              "    li.appendChild(percent);\n",
              "\n",
              "    outputElement.appendChild(li);\n",
              "\n",
              "    const fileDataPromise = new Promise((resolve) => {\n",
              "      const reader = new FileReader();\n",
              "      reader.onload = (e) => {\n",
              "        resolve(e.target.result);\n",
              "      };\n",
              "      reader.readAsArrayBuffer(file);\n",
              "    });\n",
              "    // Wait for the data to be ready.\n",
              "    let fileData = yield {\n",
              "      promise: fileDataPromise,\n",
              "      response: {\n",
              "        action: 'continue',\n",
              "      }\n",
              "    };\n",
              "\n",
              "    // Use a chunked sending to avoid message size limits. See b/62115660.\n",
              "    let position = 0;\n",
              "    do {\n",
              "      const length = Math.min(fileData.byteLength - position, MAX_PAYLOAD_SIZE);\n",
              "      const chunk = new Uint8Array(fileData, position, length);\n",
              "      position += length;\n",
              "\n",
              "      const base64 = btoa(String.fromCharCode.apply(null, chunk));\n",
              "      yield {\n",
              "        response: {\n",
              "          action: 'append',\n",
              "          file: file.name,\n",
              "          data: base64,\n",
              "        },\n",
              "      };\n",
              "\n",
              "      let percentDone = fileData.byteLength === 0 ?\n",
              "          100 :\n",
              "          Math.round((position / fileData.byteLength) * 100);\n",
              "      percent.textContent = `${percentDone}% done`;\n",
              "\n",
              "    } while (position < fileData.byteLength);\n",
              "  }\n",
              "\n",
              "  // All done.\n",
              "  yield {\n",
              "    response: {\n",
              "      action: 'complete',\n",
              "    }\n",
              "  };\n",
              "}\n",
              "\n",
              "scope.google = scope.google || {};\n",
              "scope.google.colab = scope.google.colab || {};\n",
              "scope.google.colab._files = {\n",
              "  _uploadFiles,\n",
              "  _uploadFilesContinue,\n",
              "};\n",
              "})(self);\n",
              "</script> "
            ]
          },
          "metadata": {}
        },
        {
          "output_type": "stream",
          "name": "stdout",
          "text": [
            "Saving Ecommerce_DBS.csv to Ecommerce_DBS.csv\n",
            "   Customer ID Purchase Date Product Category  Product Price  Quantity  \\\n",
            "0        46251    08/09/2020      Electronics             12         3   \n",
            "1        46251    05/03/2022             Home            468         4   \n",
            "2        46251    23/05/2022             Home            288         2   \n",
            "3        46251    12/11/2020         Clothing            196         1   \n",
            "4        13593    27/11/2020             Home            449         1   \n",
            "\n",
            "   Total Purchase Amount  NPS  Customer Age   Gender             Source  \\\n",
            "0                    740    7             20    Male  Instagram Campign   \n",
            "1                   2739    8             20    Male  Instagram Campign   \n",
            "2                   3196   10             20    Male                SEM   \n",
            "3                   3509    3             20    Male  Instagram Campign   \n",
            "4                   3452    3             20  Female  Instagram Campign   \n",
            "\n",
            "         Country         State   Latitude  Longituide  \n",
            "0         Canada       Alberta  55.000000 -115.000000  \n",
            "1         Canada       Ontario  50.000000  -85.000000  \n",
            "2  United States    New Mexico  34.840515 -106.248482  \n",
            "3         Canada  Saskatchewan  55.000000 -106.000000  \n",
            "4  United States    California  36.116203 -119.681564  \n"
          ]
        }
      ]
    },
    {
      "cell_type": "code",
      "source": [
        "print(tabela.info())"
      ],
      "metadata": {
        "colab": {
          "base_uri": "https://localhost:8080/"
        },
        "id": "Q55Z-cVytlht",
        "outputId": "8f5a5400-7d36-4191-afab-35a73d44250b"
      },
      "execution_count": 3,
      "outputs": [
        {
          "output_type": "stream",
          "name": "stdout",
          "text": [
            "<class 'pandas.core.frame.DataFrame'>\n",
            "RangeIndex: 250000 entries, 0 to 249999\n",
            "Data columns (total 14 columns):\n",
            " #   Column                 Non-Null Count   Dtype  \n",
            "---  ------                 --------------   -----  \n",
            " 0   Customer ID            250000 non-null  int64  \n",
            " 1   Purchase Date          250000 non-null  object \n",
            " 2   Product Category       250000 non-null  object \n",
            " 3   Product Price          250000 non-null  int64  \n",
            " 4   Quantity               250000 non-null  int64  \n",
            " 5   Total Purchase Amount  250000 non-null  int64  \n",
            " 6   NPS                    250000 non-null  int64  \n",
            " 7   Customer Age           250000 non-null  int64  \n",
            " 8   Gender                 250000 non-null  object \n",
            " 9   Source                 250000 non-null  object \n",
            " 10  Country                250000 non-null  object \n",
            " 11  State                  250000 non-null  object \n",
            " 12  Latitude               250000 non-null  float64\n",
            " 13  Longituide             250000 non-null  float64\n",
            "dtypes: float64(2), int64(6), object(6)\n",
            "memory usage: 26.7+ MB\n",
            "None\n"
          ]
        }
      ]
    },
    {
      "cell_type": "code",
      "source": [
        "tabela = tabela.dropna()\n",
        "tabela = tabela.drop_duplicates()\n",
        "tabela = tabela.drop(columns=['Latitude'])\n",
        "tabela = tabela.drop(columns=['Longituide'])"
      ],
      "metadata": {
        "id": "JE1hQ2cntvqv"
      },
      "execution_count": 4,
      "outputs": []
    },
    {
      "cell_type": "markdown",
      "source": [
        "Produtos mais vendidos nos últimos 3 anos: (categoria)"
      ],
      "metadata": {
        "id": "3d_aV0lMx_BI"
      }
    },
    {
      "cell_type": "code",
      "source": [
        "from datetime import datetime\n",
        "\n",
        "anoAtual = datetime.now().year\n",
        "contAno = anoAtual - 3\n",
        "\n",
        "contador = {}\n",
        "\n",
        "for i in range(len(tabela)):\n",
        "    data = tabela.loc[i, 'Purchase Date']\n",
        "    try:\n",
        "        ano = int(data.split('/')[-1])\n",
        "    except:\n",
        "        continue\n",
        "\n",
        "    if ano > contAno:\n",
        "        produto = tabela.loc[i, 'Product Category']\n",
        "        quantidade = tabela.loc[i, 'Quantity']\n",
        "\n",
        "        if produto in contador:\n",
        "            contador[produto] += quantidade\n",
        "        else:\n",
        "            contador[produto] = quantidade\n",
        "\n",
        "maisVendido = None\n",
        "qtd_maisVendido = 0\n",
        "\n",
        "for produto in contador:\n",
        "    if contador[produto] > qtd_maisVendido:\n",
        "        maisVendido = produto\n",
        "        qtd_maisVendido = contador[produto]\n",
        "\n",
        "print(\"O produto mais vendido nos últimos 3 anos:\", maisVendido)\n",
        "print(\"Quantidade vendida:\", qtd_maisVendido)\n",
        "\n"
      ],
      "metadata": {
        "colab": {
          "base_uri": "https://localhost:8080/"
        },
        "id": "xJYEovD3yFaH",
        "outputId": "ca3b9fad-9c89-4fb9-d7e2-c57b3c6f4404"
      },
      "execution_count": 5,
      "outputs": [
        {
          "output_type": "stream",
          "name": "stdout",
          "text": [
            "O produto mais vendido nos últimos 3 anos: Books\n",
            "Quantidade vendida: 43585\n"
          ]
        }
      ]
    },
    {
      "cell_type": "markdown",
      "source": [
        "Produto mais caro e produto mais barato:"
      ],
      "metadata": {
        "id": "8tnPER7-A3R5"
      }
    },
    {
      "cell_type": "code",
      "source": [
        "import pandas as pd\n",
        "tabela = pd.read_csv('/content/Ecommerce_DBS.csv')\n",
        "\n",
        "maisCaro = None\n",
        "valorC = 0\n",
        "\n",
        "maisBarato = None\n",
        "valorB = None\n",
        "\n",
        "for i in range(len(tabela)):\n",
        "    produto = tabela.loc[i, 'Product Category']\n",
        "    valor = float(tabela.loc[i, 'Product Price'])\n",
        "\n",
        "    if valor > valorC:\n",
        "        maisCaro = produto\n",
        "        valorC = valor\n",
        "\n",
        "    if valorB == None or valor < valorB:\n",
        "        maisBarato = produto\n",
        "        valorB = valor\n",
        "\n",
        "print(f\"O produto mais caro é da categoria: {maisCaro}\\nCustando: R${valorC:.2f}\")\n",
        "print(f\"O produto mais barato é da categoria: {maisBarato}\\nCustando R${valorB:.2f}\")"
      ],
      "metadata": {
        "colab": {
          "base_uri": "https://localhost:8080/"
        },
        "id": "mpEoVlQlA9mS",
        "outputId": "46c1a303-cd52-4c7e-ba39-21b5a7511781"
      },
      "execution_count": 6,
      "outputs": [
        {
          "output_type": "stream",
          "name": "stdout",
          "text": [
            "O produto mais caro é da categoria: Electronics\n",
            "Custando: R$500.00\n",
            "O produto mais barato é da categoria: Electronics\n",
            "Custando R$10.00\n"
          ]
        }
      ]
    },
    {
      "cell_type": "markdown",
      "source": [
        "Qual a categoria de produto mais vendida e menos vendida? E qual a categoria mais e menos cara?"
      ],
      "metadata": {
        "id": "YICt4ViQE42f"
      }
    },
    {
      "cell_type": "code",
      "source": [
        "qtd_pCategoria = {}\n",
        "preco_pCategoria = {}\n",
        "\n",
        "for i in range(len(tabela)):\n",
        "    categoria = tabela.loc[i, 'Product Category']\n",
        "    quantidade = tabela.loc[i, 'Quantity']\n",
        "    valor = tabela.loc[i, 'Product Price']\n",
        "\n",
        "    if categoria in qtd_pCategoria:\n",
        "        qtd_pCategoria[categoria] += quantidade\n",
        "    else:\n",
        "        qtd_pCategoria[categoria] = quantidade\n",
        "\n",
        "    if categoria in preco_pCategoria:\n",
        "        preco_pCategoria[categoria].append(valor)\n",
        "    else:\n",
        "        preco_pCategoria[categoria] = [valor]\n",
        "\n",
        "print(\"Categorias:\")\n",
        "for categoria, quantidade in qtd_pCategoria.items():\n",
        "    print(f\"\\n{categoria} | Quantidade: {quantidade}\")\n",
        "\n",
        "    maisVendida = max(qtd_pCategoria, key=qtd_pCategoria.get)\n",
        "    menosVendida = min(preco_pCategoria, key=preco_pCategoria.get)\n",
        "\n",
        "maisCara = None\n",
        "precoMaisCaro = 0\n",
        "\n",
        "maisBarato = None\n",
        "precoMaisBarato = None\n",
        "\n",
        "for categoria, valores in preco_pCategoria.items():\n",
        "    maxPreco = max(valores)\n",
        "    minPreco = min(valores)\n",
        "\n",
        "    if maxPreco > precoMaisCaro:\n",
        "         precoMaisCaro = maxPreco\n",
        "         maisCara = categoria\n",
        "\n",
        "    if precoMaisBarato == None or minPreco < precoMaisBarato:\n",
        "        precoMaisBarato = minPreco\n",
        "        maisBarato = categoria\n",
        "\n",
        "print(f\"\\n- Categoria mais vendida: {maisVendida}\\nTendo {qtd_pCategoria[maisVendida]} itens vendidos\")\n",
        "print(f\"- Categoria menos vendida: {menosVendida}\\nTendo {qtd_pCategoria[menosVendida]} itens vendidos\")\n",
        "print(f\"- O produto mais caro faz parte da categoria: {maisCara}\\nCom preço de R${precoMaisCaro:.2f}\")\n",
        "print(f\"- O produto mais barato faz parte da categoria: {maisBarato}\\nCom preço de R${precoMaisBarato}\")\n",
        "\n"
      ],
      "metadata": {
        "colab": {
          "base_uri": "https://localhost:8080/"
        },
        "id": "45nc2eI_FGb6",
        "outputId": "24d4a266-a077-4537-e68f-c752d935d376"
      },
      "execution_count": 7,
      "outputs": [
        {
          "output_type": "stream",
          "name": "stdout",
          "text": [
            "Categorias:\n",
            "\n",
            "Electronics | Quantidade: 150828\n",
            "\n",
            "Home | Quantidade: 149698\n",
            "\n",
            "Clothing | Quantidade: 225322\n",
            "\n",
            "Books | Quantidade: 223876\n",
            "\n",
            "- Categoria mais vendida: Clothing\n",
            "Tendo 225322 itens vendidos\n",
            "- Categoria menos vendida: Electronics\n",
            "Tendo 150828 itens vendidos\n",
            "- O produto mais caro faz parte da categoria: Electronics\n",
            "Com preço de R$500.00\n",
            "- O produto mais barato faz parte da categoria: Electronics\n",
            "Com preço de R$10\n"
          ]
        }
      ]
    },
    {
      "cell_type": "markdown",
      "source": [
        "Qual o produto com o melhor e o pior NPS?"
      ],
      "metadata": {
        "id": "QCARER7KNe3u"
      }
    },
    {
      "cell_type": "code",
      "source": [
        "melhorNPS = None\n",
        "valorMelhorNPS = -1\n",
        "\n",
        "piorNPS = None\n",
        "valorPiorNPS = 11\n",
        "\n",
        "for i in range(len(tabela)):\n",
        "    produto = tabela.loc[i, 'Product Category']\n",
        "    nps = tabela.loc[i, 'NPS']\n",
        "\n",
        "    if nps > valorMelhorNPS:\n",
        "        valorMelhorNPS = nps\n",
        "        melhorNPS = produto\n",
        "\n",
        "    if nps < valorPiorNPS:\n",
        "        valorPiorNPS = nps\n",
        "        piorNPS = produto\n",
        "\n",
        "print(f\"Produto com melhor NPS está na categoria: {melhorNPS}\\nTendo um NPS de {valorMelhorNPS}\")\n",
        "print(f\"Produto com pior NPS está na categoria: {piorNPS}\\nTendo um NPS de {valorPiorNPS}\")\n"
      ],
      "metadata": {
        "colab": {
          "base_uri": "https://localhost:8080/"
        },
        "id": "ageccgLfNlAW",
        "outputId": "11f85435-5ab8-4c9f-c1cf-62d432a21f77"
      },
      "execution_count": 8,
      "outputs": [
        {
          "output_type": "stream",
          "name": "stdout",
          "text": [
            "Produto com melhor NPS está na categoria: Home\n",
            "Tendo um NPS de 10\n",
            "Produto com pior NPS está na categoria: Clothing\n",
            "Tendo um NPS de 0\n"
          ]
        }
      ]
    },
    {
      "cell_type": "markdown",
      "source": [
        "Analisando a base de dados, qual o tipo de público (considerando gênero e idade) e o canal ideal para vender determinado tipo de produto?"
      ],
      "metadata": {
        "id": "MgYBCxMTl1np"
      }
    },
    {
      "cell_type": "code",
      "source": [
        "publico = {}\n",
        "canais_pProduto = {}\n",
        "\n",
        "def faixa_idade(idade):\n",
        "    if idade < 18:\n",
        "        return \"menor que 18\"\n",
        "    elif 18 <= idade < 25:\n",
        "        return \"18 a 25\"\n",
        "    elif 25 <= idade < 35:\n",
        "        return \"25 a 35\"\n",
        "    elif 35 <= idade < 45:\n",
        "        return \"35 a 45\"\n",
        "    elif 45 <= idade < 55:\n",
        "        return \"45 a 55\"\n",
        "    else:\n",
        "        return \"55+\"\n",
        "\n",
        "for i in range(len(tabela)):\n",
        "    genero = tabela.loc[i, 'Gender']\n",
        "    idade = tabela.loc[i, 'Customer Age ']\n",
        "    canal = tabela.loc[i, 'Source']\n",
        "    produto = tabela.loc[i, 'Product Category']\n",
        "\n",
        "    faixa = faixa_idade(idade)\n",
        "\n",
        "    tipoPessoa = (genero, faixa)\n",
        "    if tipoPessoa in publico:\n",
        "        publico[tipoPessoa] += 1\n",
        "    else:\n",
        "        publico[tipoPessoa] = 1\n",
        "\n",
        "    if produto in canais_pProduto:\n",
        "        canais_pProduto[produto].append(canal)\n",
        "    else:\n",
        "        canais_pProduto[produto] = [canal]\n",
        "\n",
        "print(\"Público por gênero e faixa etária:\")\n",
        "for pessoa, qtd in publico.items():\n",
        "    print(f\"{pessoa}: {qtd}\")\n",
        "\n",
        "print(\"\\nMelhor canal para vender cada produto: (com base nos dados)\")\n",
        "for produto, lista_canais in canais_pProduto.items():\n",
        "    contagem_canais = {}\n",
        "    for i in lista_canais:\n",
        "        if i in contagem_canais:\n",
        "            contagem_canais[i] += 1\n",
        "        else:\n",
        "            contagem_canais[i] = 1\n",
        "    canalMaisUsado = max(contagem_canais, key=contagem_canais.get)\n",
        "    print(f\"{produto}: {canalMaisUsado}\")"
      ],
      "metadata": {
        "colab": {
          "base_uri": "https://localhost:8080/"
        },
        "id": "mN_-V5nSl6gr",
        "outputId": "1fee6c69-44e2-4056-f9e1-43bfcbd5693a"
      },
      "execution_count": 9,
      "outputs": [
        {
          "output_type": "stream",
          "name": "stdout",
          "text": [
            "Público por gênero e faixa etária:\n",
            "('Male', '18 a 25'): 17500\n",
            "('Female', '18 a 25'): 17275\n",
            "('Male', '25 a 35'): 23336\n",
            "('Female', '25 a 35'): 23982\n",
            "('Female', '35 a 45'): 23446\n",
            "('Male', '35 a 45'): 23368\n",
            "('Male', '45 a 55'): 23177\n",
            "('Male', '55+'): 37059\n",
            "('Female', '55+'): 37665\n",
            "('Female', '45 a 55'): 23192\n",
            "\n",
            "Melhor canal para vender cada produto: (com base nos dados)\n",
            "Electronics: Instagram Campign\n",
            "Home: Instagram Campign\n",
            "Clothing: Instagram Campign\n",
            "Books: Instagram Campign\n"
          ]
        }
      ]
    },
    {
      "cell_type": "markdown",
      "source": [
        "Testes"
      ],
      "metadata": {
        "id": "fMs5dn_X1zIh"
      }
    },
    {
      "cell_type": "code",
      "source": [
        "print(tabela.columns)"
      ],
      "metadata": {
        "colab": {
          "base_uri": "https://localhost:8080/"
        },
        "id": "Yu0aRFLmwTnA",
        "outputId": "6281ad3d-f836-4ac1-8fb5-eb01b1d7f94c"
      },
      "execution_count": 10,
      "outputs": [
        {
          "output_type": "stream",
          "name": "stdout",
          "text": [
            "Index(['Customer ID', 'Purchase Date', 'Product Category', 'Product Price',\n",
            "       'Quantity', 'Total Purchase Amount', 'NPS', 'Customer Age ', 'Gender',\n",
            "       'Source', 'Country', 'State', 'Latitude', 'Longituide'],\n",
            "      dtype='object')\n"
          ]
        }
      ]
    },
    {
      "cell_type": "code",
      "source": [
        "print(tabela.isnull().sum())"
      ],
      "metadata": {
        "colab": {
          "base_uri": "https://localhost:8080/"
        },
        "id": "b1ALU5i0110_",
        "outputId": "18e5ace1-b4cf-4040-e6eb-2bde9ad5a045"
      },
      "execution_count": 11,
      "outputs": [
        {
          "output_type": "stream",
          "name": "stdout",
          "text": [
            "Customer ID              0\n",
            "Purchase Date            0\n",
            "Product Category         0\n",
            "Product Price            0\n",
            "Quantity                 0\n",
            "Total Purchase Amount    0\n",
            "NPS                      0\n",
            "Customer Age             0\n",
            "Gender                   0\n",
            "Source                   0\n",
            "Country                  0\n",
            "State                    0\n",
            "Latitude                 0\n",
            "Longituide               0\n",
            "dtype: int64\n"
          ]
        }
      ]
    },
    {
      "cell_type": "code",
      "source": [
        "print(tabela.duplicated().sum())"
      ],
      "metadata": {
        "colab": {
          "base_uri": "https://localhost:8080/"
        },
        "id": "1_sr0Y-m2DvD",
        "outputId": "8830e85e-7bd4-4646-e630-f52e14265f0b"
      },
      "execution_count": 12,
      "outputs": [
        {
          "output_type": "stream",
          "name": "stdout",
          "text": [
            "0\n"
          ]
        }
      ]
    },
    {
      "cell_type": "code",
      "source": [
        "print(tabela.head())"
      ],
      "metadata": {
        "id": "15m7i3ih2Ihg",
        "outputId": "46ea4e64-5921-485e-bd1f-3a254be0d6e9",
        "colab": {
          "base_uri": "https://localhost:8080/"
        }
      },
      "execution_count": 13,
      "outputs": [
        {
          "output_type": "stream",
          "name": "stdout",
          "text": [
            "   Customer ID Purchase Date Product Category  Product Price  Quantity  \\\n",
            "0        46251    08/09/2020      Electronics             12         3   \n",
            "1        46251    05/03/2022             Home            468         4   \n",
            "2        46251    23/05/2022             Home            288         2   \n",
            "3        46251    12/11/2020         Clothing            196         1   \n",
            "4        13593    27/11/2020             Home            449         1   \n",
            "\n",
            "   Total Purchase Amount  NPS  Customer Age   Gender             Source  \\\n",
            "0                    740    7             20    Male  Instagram Campign   \n",
            "1                   2739    8             20    Male  Instagram Campign   \n",
            "2                   3196   10             20    Male                SEM   \n",
            "3                   3509    3             20    Male  Instagram Campign   \n",
            "4                   3452    3             20  Female  Instagram Campign   \n",
            "\n",
            "         Country         State   Latitude  Longituide  \n",
            "0         Canada       Alberta  55.000000 -115.000000  \n",
            "1         Canada       Ontario  50.000000  -85.000000  \n",
            "2  United States    New Mexico  34.840515 -106.248482  \n",
            "3         Canada  Saskatchewan  55.000000 -106.000000  \n",
            "4  United States    California  36.116203 -119.681564  \n"
          ]
        }
      ]
    },
    {
      "cell_type": "markdown",
      "source": [
        "Gráficos"
      ],
      "metadata": {
        "id": "sYfXLt3Kchwe"
      }
    },
    {
      "cell_type": "code",
      "source": [
        "import pandas as pd\n",
        "import matplotlib.pyplot as plt\n",
        "\n",
        "tabela = pd.read_csv('/content/Ecommerce_DBS.csv')\n"
      ],
      "metadata": {
        "id": "3nm5RsdKckTX"
      },
      "execution_count": 14,
      "outputs": []
    },
    {
      "cell_type": "markdown",
      "source": [
        "Produtos mais vendidos nos ultimos 3 anos"
      ],
      "metadata": {
        "id": "hu2jW-o-gU6f"
      }
    },
    {
      "cell_type": "code",
      "source": [
        "vendas_pCategoria = tabela.groupby('Product Category')['Quantity'].sum()\n",
        "vendas_pCategoria = vendas_pCategoria.sort_values(ascending=False)\n",
        "\n",
        "plt.bar(vendas_pCategoria.index, vendas_pCategoria.values)\n",
        "plt.title(\"Produtos mais vendidos (últimos 3 anos)\")\n",
        "plt.xlabel(\"Categoria\")\n",
        "plt.ylabel(\"Quantidade vendida\")\n",
        "plt.show()"
      ],
      "metadata": {
        "colab": {
          "base_uri": "https://localhost:8080/",
          "height": 472
        },
        "id": "NTl2s5Olc97Z",
        "outputId": "c07bb53a-abe1-4438-92d8-4410c6a3119a"
      },
      "execution_count": 15,
      "outputs": [
        {
          "output_type": "display_data",
          "data": {
            "text/plain": [
              "<Figure size 640x480 with 1 Axes>"
            ],
            "image/png": "[encoded data removed]"
          },
          "metadata": {}
        }
      ]
    },
    {
      "cell_type": "markdown",
      "source": [
        "Preço máximo por categoria"
      ],
      "metadata": {
        "id": "43DCsrWRiQ7U"
      }
    },
    {
      "cell_type": "code",
      "source": [
        "preco_pCategoria = tabela.groupby('Product Category')['Product Price'].max().sort_values(ascending=False)\n",
        "\n",
        "plt.bar(preco_pCategoria.index, preco_pCategoria.values)\n",
        "plt.xlabel('Categoria do Produto')\n",
        "plt.ylabel('Preço Máximo')\n",
        "plt.title('Preço Máximo por Categoria de Produto')\n",
        "plt.show()\n"
      ],
      "metadata": {
        "colab": {
          "base_uri": "https://localhost:8080/",
          "height": 472
        },
        "id": "sivvuA_ieFVx",
        "outputId": "73b20f68-02af-400d-86b9-bf6646f8a3f3"
      },
      "execution_count": 16,
      "outputs": [
        {
          "output_type": "display_data",
          "data": {
            "text/plain": [
              "<Figure size 640x480 with 1 Axes>"
            ],
            "image/png": "[encoded data removed]"
          },
          "metadata": {}
        }
      ]
    },
    {
      "cell_type": "markdown",
      "source": [
        "Categorias mais e menos vendidas."
      ],
      "metadata": {
        "id": "6A2VckMxiVoa"
      }
    },
    {
      "cell_type": "code",
      "source": [
        "venda_pCategoria = tabela.groupby('Product Category')['Quantity'].sum().sort_values(ascending=False)\n",
        "\n",
        "plt.bar(venda_pCategoria.index, venda_pCategoria.values)\n",
        "plt.xlabel('Categoria do Produto')\n",
        "plt.ylabel('Quantidade Vendida')\n",
        "plt.title('Quantidade Vendida por Categoria de Produto')\n",
        "plt.show()"
      ],
      "metadata": {
        "colab": {
          "base_uri": "https://localhost:8080/",
          "height": 472
        },
        "id": "WH9je9aYD4Zw",
        "outputId": "ee4225af-8edc-4056-c08a-03e779f23f0b"
      },
      "execution_count": 18,
      "outputs": [
        {
          "output_type": "display_data",
          "data": {
            "text/plain": [
              "<Figure size 640x480 with 1 Axes>"
            ],
            "image/png": "[encoded data removed]"
          },
          "metadata": {}
        }
      ]
    },
    {
      "cell_type": "markdown",
      "source": [
        "NPS por categoria"
      ],
      "metadata": {
        "id": "CN9JC600IQNP"
      }
    },
    {
      "cell_type": "code",
      "source": [
        "nps_pCategoria = tabela.groupby('Product Category')['NPS'].mean().sort_values(ascending=False)\n",
        "\n",
        "plt.bar(nps_pCategoria.index, nps_pCategoria.values)\n",
        "plt.xlabel('Categoria do Produto')\n",
        "plt.ylabel('NPS')\n",
        "plt.title('NPS por Categoria de Produto')\n",
        "plt.show()"
      ],
      "metadata": {
        "colab": {
          "base_uri": "https://localhost:8080/",
          "height": 472
        },
        "id": "Wy3gidL_Ib2r",
        "outputId": "b20841c0-19f1-4166-a9d4-7e5309927841"
      },
      "execution_count": 19,
      "outputs": [
        {
          "output_type": "display_data",
          "data": {
            "text/plain": [
              "<Figure size 640x480 with 1 Axes>"
            ],
            "image/png": "[encoded data removed]"
          },
          "metadata": {}
        }
      ]
    },
    {
      "cell_type": "markdown",
      "source": [
        "Canais de vendas mais usados X Quantidade vendida"
      ],
      "metadata": {
        "id": "yrA4C64tJXPL"
      }
    },
    {
      "cell_type": "code",
      "source": [
        "maisUsados = tabela['Source'].value_counts()\n",
        "\n",
        "plt.bar(maisUsados.index, maisUsados.values)\n",
        "plt.xlabel('Canal de Venda')\n",
        "plt.ylabel('Quantidade Vendida')\n",
        "plt.title('Canias mais usados')\n",
        "plt.show()\n",
        "\n",
        "qtd_Vendas = tabela['Source'].value_counts()\n",
        "\n",
        "plt.bar(qtd_Vendas.index, qtd_Vendas.values)\n",
        "plt.xlabel('Canal de Venda')\n",
        "plt.ylabel('Quantidade Vendida')\n",
        "plt.title('Quantidade Vendida por Canal de Venda')"
      ],
      "metadata": {
        "colab": {
          "base_uri": "https://localhost:8080/",
          "height": 944
        },
        "id": "l5cIKrS6Jne7",
        "outputId": "9f81a605-ea74-471a-9773-b4c33f361bec"
      },
      "execution_count": 26,
      "outputs": [
        {
          "output_type": "display_data",
          "data": {
            "text/plain": [
              "<Figure size 640x480 with 1 Axes>"
            ],
            "image/png": "[encoded data removed]"
          },
          "metadata": {}
        },
        {
          "output_type": "execute_result",
          "data": {
            "text/plain": [
              "Text(0.5, 1.0, 'Quantidade Vendida por Canal de Venda')"
            ]
          },
          "metadata": {},
          "execution_count": 26
        },
        {
          "output_type": "display_data",
          "data": {
            "text/plain": [
              "<Figure size 640x480 with 1 Axes>"
            ],
            "image/png": "[encoded data removed]"
          },
          "metadata": {}
        }
      ]
    },
    {
      "cell_type": "markdown",
      "source": [],
      "metadata": {
        "id": "US0DY8FWLxqc"
      }
    }
  ]
}